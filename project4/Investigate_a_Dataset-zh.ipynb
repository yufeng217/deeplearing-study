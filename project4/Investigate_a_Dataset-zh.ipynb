{
 "cells": [
  {
   "cell_type": "markdown",
   "metadata": {},
   "source": [
    "# 项目：未前往就诊的挂号预约\n",
    "\n",
    "## 目录\n",
    "<ul>\n",
    "<li><a href=\"#intro\">简介</a></li>\n",
    "<li><a href=\"#wrangling\">数据整理</a></li>\n",
    "<li><a href=\"#eda\">探索性数据分析</a></li>\n",
    "<li><a href=\"#conclusions\">结论</a></li>\n",
    "</ul>\n",
    "\n",
    "<a id='intro'></a>\n",
    "## 简介\n",
    "本数据集包含10万条巴西预约挂号的求诊信息，研究病人是否如约前往医院就诊。每行数据录入了有关患者特点的多个数值，包括 “预约日期 (ScheduledDay)”指患者具体预约就诊的日期；“街区 (Neighborhood) ”指医院所在位置；“福利保障 (Scholarship)”说明病人是否是巴西福利项目 Bolsa Família 的保障人群；请注意最后一列内容的编码：“No”表示病人已如约就诊，“Yes”说明病人未前往就诊。\n",
    "本次探索就是要深度研究：有哪些重要因素能够帮助我们预测患者是否会按照其挂号预约前往医院就诊？\n"
   ]
  },
  {
   "cell_type": "code",
   "execution_count": 71,
   "metadata": {},
   "outputs": [],
   "source": [
    "# 用这个框对你计划使用的所有数据包设置\n",
    "#   导入语句。\n",
    "import pandas as pd\n",
    "import matplotlib.pyplot as plt\n",
    "import numpy as np\n",
    "import seaborn as sns\n",
    "%matplotlib inline\n",
    "\n",
    "\n",
    "# 务必包含一个‘咒语’，以便将你的视图\n",
    "#   与 notebook 保持一致。关于更多信息，请访问这个网页：\n",
    "#   http://ipython.readthedocs.io/en/stable/interactive/magics.html\n"
   ]
  },
  {
   "cell_type": "code",
   "execution_count": 72,
   "metadata": {},
   "outputs": [],
   "source": [
    "# 载入数据\n",
    "df = pd.read_csv('noshowappointments-kagglev2-may-2016.csv')"
   ]
  },
  {
   "cell_type": "code",
   "execution_count": 73,
   "metadata": {},
   "outputs": [
    {
     "name": "stdout",
     "output_type": "stream",
     "text": [
      "<class 'pandas.core.frame.DataFrame'>\n",
      "RangeIndex: 110527 entries, 0 to 110526\n",
      "Data columns (total 14 columns):\n",
      "PatientId         110527 non-null float64\n",
      "AppointmentID     110527 non-null int64\n",
      "Gender            110527 non-null object\n",
      "ScheduledDay      110527 non-null object\n",
      "AppointmentDay    110527 non-null object\n",
      "Age               110527 non-null int64\n",
      "Neighbourhood     110527 non-null object\n",
      "Scholarship       110527 non-null int64\n",
      "Hipertension      110527 non-null int64\n",
      "Diabetes          110527 non-null int64\n",
      "Alcoholism        110527 non-null int64\n",
      "Handcap           110527 non-null int64\n",
      "SMS_received      110527 non-null int64\n",
      "No-show           110527 non-null object\n",
      "dtypes: float64(1), int64(8), object(5)\n",
      "memory usage: 11.8+ MB\n"
     ]
    }
   ],
   "source": [
    "# 获取基本信息\n",
    "df.info()"
   ]
  },
  {
   "cell_type": "markdown",
   "metadata": {},
   "source": [
    "可以看到有 11w行数据，14列"
   ]
  },
  {
   "cell_type": "code",
   "execution_count": 4,
   "metadata": {},
   "outputs": [
    {
     "data": {
      "text/html": [
       "<div>\n",
       "<style>\n",
       "    .dataframe thead tr:only-child th {\n",
       "        text-align: right;\n",
       "    }\n",
       "\n",
       "    .dataframe thead th {\n",
       "        text-align: left;\n",
       "    }\n",
       "\n",
       "    .dataframe tbody tr th {\n",
       "        vertical-align: top;\n",
       "    }\n",
       "</style>\n",
       "<table border=\"1\" class=\"dataframe\">\n",
       "  <thead>\n",
       "    <tr style=\"text-align: right;\">\n",
       "      <th></th>\n",
       "      <th>PatientId</th>\n",
       "      <th>AppointmentID</th>\n",
       "      <th>Gender</th>\n",
       "      <th>ScheduledDay</th>\n",
       "      <th>AppointmentDay</th>\n",
       "      <th>Age</th>\n",
       "      <th>Neighbourhood</th>\n",
       "      <th>Scholarship</th>\n",
       "      <th>Hipertension</th>\n",
       "      <th>Diabetes</th>\n",
       "      <th>Alcoholism</th>\n",
       "      <th>Handcap</th>\n",
       "      <th>SMS_received</th>\n",
       "      <th>No-show</th>\n",
       "    </tr>\n",
       "  </thead>\n",
       "  <tbody>\n",
       "    <tr>\n",
       "      <th>0</th>\n",
       "      <td>2.987250e+13</td>\n",
       "      <td>5642903</td>\n",
       "      <td>F</td>\n",
       "      <td>2016-04-29T18:38:08Z</td>\n",
       "      <td>2016-04-29T00:00:00Z</td>\n",
       "      <td>62</td>\n",
       "      <td>JARDIM DA PENHA</td>\n",
       "      <td>0</td>\n",
       "      <td>1</td>\n",
       "      <td>0</td>\n",
       "      <td>0</td>\n",
       "      <td>0</td>\n",
       "      <td>0</td>\n",
       "      <td>No</td>\n",
       "    </tr>\n",
       "    <tr>\n",
       "      <th>1</th>\n",
       "      <td>5.589978e+14</td>\n",
       "      <td>5642503</td>\n",
       "      <td>M</td>\n",
       "      <td>2016-04-29T16:08:27Z</td>\n",
       "      <td>2016-04-29T00:00:00Z</td>\n",
       "      <td>56</td>\n",
       "      <td>JARDIM DA PENHA</td>\n",
       "      <td>0</td>\n",
       "      <td>0</td>\n",
       "      <td>0</td>\n",
       "      <td>0</td>\n",
       "      <td>0</td>\n",
       "      <td>0</td>\n",
       "      <td>No</td>\n",
       "    </tr>\n",
       "    <tr>\n",
       "      <th>2</th>\n",
       "      <td>4.262962e+12</td>\n",
       "      <td>5642549</td>\n",
       "      <td>F</td>\n",
       "      <td>2016-04-29T16:19:04Z</td>\n",
       "      <td>2016-04-29T00:00:00Z</td>\n",
       "      <td>62</td>\n",
       "      <td>MATA DA PRAIA</td>\n",
       "      <td>0</td>\n",
       "      <td>0</td>\n",
       "      <td>0</td>\n",
       "      <td>0</td>\n",
       "      <td>0</td>\n",
       "      <td>0</td>\n",
       "      <td>No</td>\n",
       "    </tr>\n",
       "    <tr>\n",
       "      <th>3</th>\n",
       "      <td>8.679512e+11</td>\n",
       "      <td>5642828</td>\n",
       "      <td>F</td>\n",
       "      <td>2016-04-29T17:29:31Z</td>\n",
       "      <td>2016-04-29T00:00:00Z</td>\n",
       "      <td>8</td>\n",
       "      <td>PONTAL DE CAMBURI</td>\n",
       "      <td>0</td>\n",
       "      <td>0</td>\n",
       "      <td>0</td>\n",
       "      <td>0</td>\n",
       "      <td>0</td>\n",
       "      <td>0</td>\n",
       "      <td>No</td>\n",
       "    </tr>\n",
       "    <tr>\n",
       "      <th>4</th>\n",
       "      <td>8.841186e+12</td>\n",
       "      <td>5642494</td>\n",
       "      <td>F</td>\n",
       "      <td>2016-04-29T16:07:23Z</td>\n",
       "      <td>2016-04-29T00:00:00Z</td>\n",
       "      <td>56</td>\n",
       "      <td>JARDIM DA PENHA</td>\n",
       "      <td>0</td>\n",
       "      <td>1</td>\n",
       "      <td>1</td>\n",
       "      <td>0</td>\n",
       "      <td>0</td>\n",
       "      <td>0</td>\n",
       "      <td>No</td>\n",
       "    </tr>\n",
       "  </tbody>\n",
       "</table>\n",
       "</div>"
      ],
      "text/plain": [
       "      PatientId  AppointmentID Gender          ScheduledDay  \\\n",
       "0  2.987250e+13        5642903      F  2016-04-29T18:38:08Z   \n",
       "1  5.589978e+14        5642503      M  2016-04-29T16:08:27Z   \n",
       "2  4.262962e+12        5642549      F  2016-04-29T16:19:04Z   \n",
       "3  8.679512e+11        5642828      F  2016-04-29T17:29:31Z   \n",
       "4  8.841186e+12        5642494      F  2016-04-29T16:07:23Z   \n",
       "\n",
       "         AppointmentDay  Age      Neighbourhood  Scholarship  Hipertension  \\\n",
       "0  2016-04-29T00:00:00Z   62    JARDIM DA PENHA            0             1   \n",
       "1  2016-04-29T00:00:00Z   56    JARDIM DA PENHA            0             0   \n",
       "2  2016-04-29T00:00:00Z   62      MATA DA PRAIA            0             0   \n",
       "3  2016-04-29T00:00:00Z    8  PONTAL DE CAMBURI            0             0   \n",
       "4  2016-04-29T00:00:00Z   56    JARDIM DA PENHA            0             1   \n",
       "\n",
       "   Diabetes  Alcoholism  Handcap  SMS_received No-show  \n",
       "0         0           0        0             0      No  \n",
       "1         0           0        0             0      No  \n",
       "2         0           0        0             0      No  \n",
       "3         0           0        0             0      No  \n",
       "4         1           0        0             0      No  "
      ]
     },
     "execution_count": 4,
     "metadata": {},
     "output_type": "execute_result"
    }
   ],
   "source": [
    "# 查看下数据\n",
    "df.head()"
   ]
  },
  {
   "cell_type": "markdown",
   "metadata": {},
   "source": [
    "字段从左到右依次为：\n",
    "\n",
    "病人id，  预约流水，性别，实际就诊日期，预约日期，年龄，医院所属街道，是否享有福利项目，高血压，糖尿病，酗酒，伤残等级，短信预约，是否如约"
   ]
  },
  {
   "cell_type": "code",
   "execution_count": 5,
   "metadata": {},
   "outputs": [
    {
     "data": {
      "text/plain": [
       "Scholarship\n",
       "0    99666\n",
       "1    10861\n",
       "Name: No-show, dtype: int64"
      ]
     },
     "execution_count": 5,
     "metadata": {},
     "output_type": "execute_result"
    }
   ],
   "source": [
    "# 查看各字段有几种数据\n",
    "# 是否享有福利项目\n",
    "df.groupby('Scholarship')['No-show'].count()\n",
    "# 0 无 1 有"
   ]
  },
  {
   "cell_type": "code",
   "execution_count": 7,
   "metadata": {},
   "outputs": [
    {
     "data": {
      "text/plain": [
       "Hipertension\n",
       "0    88726\n",
       "1    21801\n",
       "Name: No-show, dtype: int64"
      ]
     },
     "execution_count": 7,
     "metadata": {},
     "output_type": "execute_result"
    }
   ],
   "source": [
    "# 高血压\n",
    "df.groupby('Hipertension')['No-show'].count()\n",
    "# 0 无 1 有"
   ]
  },
  {
   "cell_type": "code",
   "execution_count": 8,
   "metadata": {},
   "outputs": [
    {
     "data": {
      "text/plain": [
       "Diabetes\n",
       "0    102584\n",
       "1      7943\n",
       "Name: No-show, dtype: int64"
      ]
     },
     "execution_count": 8,
     "metadata": {},
     "output_type": "execute_result"
    }
   ],
   "source": [
    "# 糖尿病\n",
    "df.groupby('Diabetes')['No-show'].count()\n",
    "# 0 无 1 有"
   ]
  },
  {
   "cell_type": "code",
   "execution_count": 10,
   "metadata": {},
   "outputs": [
    {
     "data": {
      "text/plain": [
       "Alcoholism\n",
       "0    107167\n",
       "1      3360\n",
       "Name: No-show, dtype: int64"
      ]
     },
     "execution_count": 10,
     "metadata": {},
     "output_type": "execute_result"
    }
   ],
   "source": [
    "# 酗酒\n",
    "df.groupby('Alcoholism')['No-show'].count()\n",
    "# 0 无 1 有"
   ]
  },
  {
   "cell_type": "code",
   "execution_count": 11,
   "metadata": {},
   "outputs": [
    {
     "data": {
      "text/plain": [
       "Handcap\n",
       "0    108286\n",
       "1      2042\n",
       "2       183\n",
       "3        13\n",
       "4         3\n",
       "Name: No-show, dtype: int64"
      ]
     },
     "execution_count": 11,
     "metadata": {},
     "output_type": "execute_result"
    }
   ],
   "source": [
    "# 伤残等级\n",
    "df.groupby('Handcap')['No-show'].count()\n",
    "# 0-4 从低到高"
   ]
  },
  {
   "cell_type": "code",
   "execution_count": 12,
   "metadata": {},
   "outputs": [
    {
     "data": {
      "text/plain": [
       "SMS_received\n",
       "0    75045\n",
       "1    35482\n",
       "Name: No-show, dtype: int64"
      ]
     },
     "execution_count": 12,
     "metadata": {},
     "output_type": "execute_result"
    }
   ],
   "source": [
    "# 短信预约\n",
    "df.groupby('SMS_received')['No-show'].count()\n",
    "# 0 无 1 有"
   ]
  },
  {
   "cell_type": "code",
   "execution_count": 13,
   "metadata": {},
   "outputs": [
    {
     "data": {
      "text/plain": [
       "No-show\n",
       "No     88208\n",
       "Yes    22319\n",
       "Name: No-show, dtype: int64"
      ]
     },
     "execution_count": 13,
     "metadata": {},
     "output_type": "execute_result"
    }
   ],
   "source": [
    "# 是否未前往\n",
    "df.groupby('No-show')['No-show'].count()\n",
    "# No 未前往 1 准时前往"
   ]
  },
  {
   "cell_type": "markdown",
   "metadata": {},
   "source": [
    "<a id='wrangling'></a>\n",
    "## 数据整理\n",
    "1. 检查数据类型，字段名称\n",
    "2. 缺失值\n",
    "3. 重复值\n",
    "4. 错误值\n",
    "\n",
    "\n",
    "### 常规属性"
   ]
  },
  {
   "cell_type": "code",
   "execution_count": 9,
   "metadata": {},
   "outputs": [
    {
     "data": {
      "text/plain": [
       "Index(['PatientId', 'AppointmentID', 'Gender', 'ScheduledDay',\n",
       "       'AppointmentDay', 'Age', 'Neighbourhood', 'Scholarship', 'Hipertension',\n",
       "       'Diabetes', 'Alcoholism', 'Handcap', 'SMS_received', 'No-show'],\n",
       "      dtype='object')"
      ]
     },
     "execution_count": 9,
     "metadata": {},
     "output_type": "execute_result"
    }
   ],
   "source": [
    "# 加载数据并打印几行。进行几项操作，检查数据\n",
    "#   类型，以及是否有缺失数据或错误数据。\n",
    "# 原有字段\n",
    "df.columns"
   ]
  },
  {
   "cell_type": "code",
   "execution_count": 10,
   "metadata": {},
   "outputs": [
    {
     "name": "stdout",
     "output_type": "stream",
     "text": [
      "<class 'pandas.core.frame.DataFrame'>\n",
      "RangeIndex: 110527 entries, 0 to 110526\n",
      "Data columns (total 14 columns):\n",
      "PatientId         110527 non-null float64\n",
      "AppointmentID     110527 non-null int64\n",
      "Gender            110527 non-null object\n",
      "ScheduledDay      110527 non-null object\n",
      "AppointmentDay    110527 non-null object\n",
      "Age               110527 non-null int64\n",
      "Neighbourhood     110527 non-null object\n",
      "Scholarship       110527 non-null int64\n",
      "Hipertension      110527 non-null int64\n",
      "Diabetes          110527 non-null int64\n",
      "Alcoholism        110527 non-null int64\n",
      "Handcap           110527 non-null int64\n",
      "SMS_received      110527 non-null int64\n",
      "No-show           110527 non-null object\n",
      "dtypes: float64(1), int64(8), object(5)\n",
      "memory usage: 11.8+ MB\n"
     ]
    }
   ],
   "source": [
    "df.info()"
   ]
  },
  {
   "cell_type": "code",
   "execution_count": 11,
   "metadata": {},
   "outputs": [
    {
     "data": {
      "text/plain": [
       "PatientId         False\n",
       "AppointmentID     False\n",
       "Gender            False\n",
       "ScheduledDay      False\n",
       "AppointmentDay    False\n",
       "Age               False\n",
       "Neighbourhood     False\n",
       "Scholarship       False\n",
       "Hipertension      False\n",
       "Diabetes          False\n",
       "Alcoholism        False\n",
       "Handcap           False\n",
       "SMS_received      False\n",
       "No-show           False\n",
       "dtype: bool"
      ]
     },
     "execution_count": 11,
     "metadata": {},
     "output_type": "execute_result"
    }
   ],
   "source": [
    "# 3.查看缺失值\n",
    "df.isnull().any()"
   ]
  },
  {
   "cell_type": "markdown",
   "metadata": {},
   "source": [
    "都是 Fasle，表示没有缺失值"
   ]
  },
  {
   "cell_type": "code",
   "execution_count": 12,
   "metadata": {},
   "outputs": [
    {
     "data": {
      "text/plain": [
       "0"
      ]
     },
     "execution_count": 12,
     "metadata": {},
     "output_type": "execute_result"
    }
   ],
   "source": [
    "# 查看重复行\n",
    "sum(df.duplicated())"
   ]
  },
  {
   "cell_type": "markdown",
   "metadata": {},
   "source": [
    "0 没有重复行"
   ]
  },
  {
   "cell_type": "markdown",
   "metadata": {},
   "source": [
    "查看错误数据，这些列只有年龄有正常范围，先查看下是否有小于等于 0 的年龄，再看看最大年龄有没有不符合正常年龄的数据。"
   ]
  },
  {
   "cell_type": "code",
   "execution_count": 77,
   "metadata": {},
   "outputs": [
    {
     "data": {
      "text/html": [
       "<div>\n",
       "<style>\n",
       "    .dataframe thead tr:only-child th {\n",
       "        text-align: right;\n",
       "    }\n",
       "\n",
       "    .dataframe thead th {\n",
       "        text-align: left;\n",
       "    }\n",
       "\n",
       "    .dataframe tbody tr th {\n",
       "        vertical-align: top;\n",
       "    }\n",
       "</style>\n",
       "<table border=\"1\" class=\"dataframe\">\n",
       "  <thead>\n",
       "    <tr style=\"text-align: right;\">\n",
       "      <th></th>\n",
       "      <th>PatientId</th>\n",
       "      <th>AppointmentID</th>\n",
       "      <th>Gender</th>\n",
       "      <th>ScheduledDay</th>\n",
       "      <th>AppointmentDay</th>\n",
       "      <th>Age</th>\n",
       "      <th>Neighbourhood</th>\n",
       "      <th>Scholarship</th>\n",
       "      <th>Hipertension</th>\n",
       "      <th>Diabetes</th>\n",
       "      <th>Alcoholism</th>\n",
       "      <th>Handcap</th>\n",
       "      <th>SMS_received</th>\n",
       "      <th>No-show</th>\n",
       "    </tr>\n",
       "  </thead>\n",
       "  <tbody>\n",
       "    <tr>\n",
       "      <th>99832</th>\n",
       "      <td>4.659432e+14</td>\n",
       "      <td>5775010</td>\n",
       "      <td>F</td>\n",
       "      <td>2016-06-06T08:58:13Z</td>\n",
       "      <td>2016-06-06T00:00:00Z</td>\n",
       "      <td>-1</td>\n",
       "      <td>ROMÃO</td>\n",
       "      <td>0</td>\n",
       "      <td>0</td>\n",
       "      <td>0</td>\n",
       "      <td>0</td>\n",
       "      <td>0</td>\n",
       "      <td>0</td>\n",
       "      <td>No</td>\n",
       "    </tr>\n",
       "  </tbody>\n",
       "</table>\n",
       "</div>"
      ],
      "text/plain": [
       "          PatientId  AppointmentID Gender          ScheduledDay  \\\n",
       "99832  4.659432e+14        5775010      F  2016-06-06T08:58:13Z   \n",
       "\n",
       "             AppointmentDay  Age Neighbourhood  Scholarship  Hipertension  \\\n",
       "99832  2016-06-06T00:00:00Z   -1         ROMÃO            0             0   \n",
       "\n",
       "       Diabetes  Alcoholism  Handcap  SMS_received No-show  \n",
       "99832         0           0        0             0      No  "
      ]
     },
     "execution_count": 77,
     "metadata": {},
     "output_type": "execute_result"
    }
   ],
   "source": [
    "df[df['Age'] < 0]"
   ]
  },
  {
   "cell_type": "markdown",
   "metadata": {},
   "source": [
    "有 1 个小于 0 的年龄，这是不正常的，应该清理掉"
   ]
  },
  {
   "cell_type": "code",
   "execution_count": 78,
   "metadata": {},
   "outputs": [
    {
     "data": {
      "text/plain": [
       "115"
      ]
     },
     "execution_count": 78,
     "metadata": {},
     "output_type": "execute_result"
    }
   ],
   "source": [
    "# 再查看是否有过大的年龄\n",
    "max(df['Age'])"
   ]
  },
  {
   "cell_type": "markdown",
   "metadata": {},
   "source": [
    "115 属于正常范围中的年龄，不需要清理"
   ]
  },
  {
   "cell_type": "markdown",
   "metadata": {},
   "source": [
    "### 数据清理\n",
    "首先，由于本次调查的目的是看哪些因素影响了病人准时就诊，所以我准备如下步骤\n",
    "1. 删除前两个流水字段，与本课题无关\n",
    "2. 将字段名称变成小写，驼峰变成下划线\n",
    "3. 查看是否有缺失值，重复行，错误数据\n",
    "4. 将两个日期列改为日期属性\n",
    "5. 新增一列记录年龄分段：0-2 婴儿 3-10 儿童，11-18 青少年 19-35 青年 36-60 中年 60+ 老年\n",
    "6. 将no_show转换为数字0, 1 ( 0 - no, 1 - yes)\n",
    "7. 清理不正常的年龄数据"
   ]
  },
  {
   "cell_type": "code",
   "execution_count": 80,
   "metadata": {},
   "outputs": [
    {
     "data": {
      "text/plain": [
       "Index(['Gender', 'ScheduledDay', 'AppointmentDay', 'Age', 'Neighbourhood',\n",
       "       'Scholarship', 'Hipertension', 'Diabetes', 'Alcoholism', 'Handcap',\n",
       "       'SMS_received', 'No-show'],\n",
       "      dtype='object')"
      ]
     },
     "execution_count": 80,
     "metadata": {},
     "output_type": "execute_result"
    }
   ],
   "source": [
    "# 讨论数据结构和需要解决的任何问题之后，\n",
    "#   在本段的第二部分进行这些清理步骤。\n",
    "# 1.删除前两个流水字段，与本课题无关\n",
    "df.drop(['PatientId', 'AppointmentID'], axis=1, inplace=True)\n",
    "\n",
    "# 查看结果\n",
    "df.columns"
   ]
  },
  {
   "cell_type": "code",
   "execution_count": 81,
   "metadata": {},
   "outputs": [
    {
     "data": {
      "text/plain": [
       "Index(['gender', 'scheduled_day', 'appointment_day', 'age', 'neighbourhood',\n",
       "       'scholarship', 'hipertension', 'diabetes', 'alcoholism', 'handcap',\n",
       "       'sms_received', 'no_show'],\n",
       "      dtype='object')"
      ]
     },
     "execution_count": 81,
     "metadata": {},
     "output_type": "execute_result"
    }
   ],
   "source": [
    "# 2.将字段名称变成小写，驼峰变成下划线\n",
    "new_name = {\n",
    "    'Gender':'gender',\n",
    "    'ScheduledDay':'scheduled_day',\n",
    "    'AppointmentDay':'appointment_day',\n",
    "    'Age':'age',\n",
    "    'Neighbourhood':'neighbourhood',\n",
    "    'Scholarship':'scholarship',\n",
    "    'Hipertension':'hipertension',\n",
    "    'Diabetes':'diabetes',\n",
    "    'Alcoholism':'alcoholism',\n",
    "    'Handcap':'handcap',\n",
    "    'SMS_received':'sms_received',\n",
    "    'No-show':'no_show'\n",
    "}\n",
    "df.rename(columns=new_name, inplace=True)\n",
    "\n",
    "# 查看结果\n",
    "df.columns"
   ]
  },
  {
   "cell_type": "code",
   "execution_count": 82,
   "metadata": {},
   "outputs": [
    {
     "data": {
      "text/plain": [
       "635"
      ]
     },
     "execution_count": 82,
     "metadata": {},
     "output_type": "execute_result"
    }
   ],
   "source": [
    "# 由于删除了两列流水字段，这里要重新查看是否有重复\n",
    "sum(df.duplicated())"
   ]
  },
  {
   "cell_type": "markdown",
   "metadata": {},
   "source": [
    "新增了 635 个重复行，需要清理掉"
   ]
  },
  {
   "cell_type": "code",
   "execution_count": 9,
   "metadata": {},
   "outputs": [
    {
     "data": {
      "text/plain": [
       "0"
      ]
     },
     "execution_count": 9,
     "metadata": {},
     "output_type": "execute_result"
    }
   ],
   "source": [
    "# 3.删除重复行\n",
    "df.drop_duplicates(inplace=True)\n",
    "\n",
    "# 查看结果\n",
    "sum(df.duplicated())"
   ]
  },
  {
   "cell_type": "code",
   "execution_count": 83,
   "metadata": {},
   "outputs": [
    {
     "data": {
      "text/plain": [
       "0"
      ]
     },
     "execution_count": 83,
     "metadata": {},
     "output_type": "execute_result"
    }
   ],
   "source": [
    "# 删除年龄小于 0 的数据\n",
    "temp_index = df[df['age'] < 0]['age'].index\n",
    "df.drop(temp_index, inplace=True)\n",
    "\n",
    "# 查看结果\n",
    "df[df['age'] < 0]['no_show'].count()"
   ]
  },
  {
   "cell_type": "markdown",
   "metadata": {},
   "source": [
    "小于 0 的年龄已经被清理"
   ]
  },
  {
   "cell_type": "code",
   "execution_count": 85,
   "metadata": {},
   "outputs": [
    {
     "name": "stdout",
     "output_type": "stream",
     "text": [
      "<class 'pandas.core.frame.DataFrame'>\n",
      "Int64Index: 110526 entries, 0 to 110526\n",
      "Data columns (total 12 columns):\n",
      "gender             110526 non-null object\n",
      "scheduled_day      110526 non-null datetime64[ns]\n",
      "appointment_day    110526 non-null datetime64[ns]\n",
      "age                110526 non-null int64\n",
      "neighbourhood      110526 non-null object\n",
      "scholarship        110526 non-null int64\n",
      "hipertension       110526 non-null int64\n",
      "diabetes           110526 non-null int64\n",
      "alcoholism         110526 non-null int64\n",
      "handcap            110526 non-null int64\n",
      "sms_received       110526 non-null int64\n",
      "no_show            110526 non-null object\n",
      "dtypes: datetime64[ns](2), int64(7), object(3)\n",
      "memory usage: 11.0+ MB\n"
     ]
    }
   ],
   "source": [
    "# 4.转换日期格式\n",
    "df['scheduled_day'] = pd.to_datetime(df['scheduled_day'])\n",
    "df['appointment_day'] = pd.to_datetime(df['appointment_day'])\n",
    "# 查看结果\n",
    "df.info()"
   ]
  },
  {
   "cell_type": "code",
   "execution_count": 86,
   "metadata": {},
   "outputs": [
    {
     "data": {
      "text/html": [
       "<div>\n",
       "<style>\n",
       "    .dataframe thead tr:only-child th {\n",
       "        text-align: right;\n",
       "    }\n",
       "\n",
       "    .dataframe thead th {\n",
       "        text-align: left;\n",
       "    }\n",
       "\n",
       "    .dataframe tbody tr th {\n",
       "        vertical-align: top;\n",
       "    }\n",
       "</style>\n",
       "<table border=\"1\" class=\"dataframe\">\n",
       "  <thead>\n",
       "    <tr style=\"text-align: right;\">\n",
       "      <th></th>\n",
       "      <th>age</th>\n",
       "      <th>scholarship</th>\n",
       "      <th>hipertension</th>\n",
       "      <th>diabetes</th>\n",
       "      <th>alcoholism</th>\n",
       "      <th>handcap</th>\n",
       "      <th>sms_received</th>\n",
       "    </tr>\n",
       "  </thead>\n",
       "  <tbody>\n",
       "    <tr>\n",
       "      <th>count</th>\n",
       "      <td>110526.000000</td>\n",
       "      <td>110526.000000</td>\n",
       "      <td>110526.000000</td>\n",
       "      <td>110526.000000</td>\n",
       "      <td>110526.000000</td>\n",
       "      <td>110526.000000</td>\n",
       "      <td>110526.000000</td>\n",
       "    </tr>\n",
       "    <tr>\n",
       "      <th>mean</th>\n",
       "      <td>37.089219</td>\n",
       "      <td>0.098266</td>\n",
       "      <td>0.197248</td>\n",
       "      <td>0.071865</td>\n",
       "      <td>0.030400</td>\n",
       "      <td>0.022248</td>\n",
       "      <td>0.321029</td>\n",
       "    </tr>\n",
       "    <tr>\n",
       "      <th>std</th>\n",
       "      <td>23.110026</td>\n",
       "      <td>0.297676</td>\n",
       "      <td>0.397923</td>\n",
       "      <td>0.258266</td>\n",
       "      <td>0.171686</td>\n",
       "      <td>0.161543</td>\n",
       "      <td>0.466874</td>\n",
       "    </tr>\n",
       "    <tr>\n",
       "      <th>min</th>\n",
       "      <td>0.000000</td>\n",
       "      <td>0.000000</td>\n",
       "      <td>0.000000</td>\n",
       "      <td>0.000000</td>\n",
       "      <td>0.000000</td>\n",
       "      <td>0.000000</td>\n",
       "      <td>0.000000</td>\n",
       "    </tr>\n",
       "    <tr>\n",
       "      <th>25%</th>\n",
       "      <td>18.000000</td>\n",
       "      <td>0.000000</td>\n",
       "      <td>0.000000</td>\n",
       "      <td>0.000000</td>\n",
       "      <td>0.000000</td>\n",
       "      <td>0.000000</td>\n",
       "      <td>0.000000</td>\n",
       "    </tr>\n",
       "    <tr>\n",
       "      <th>50%</th>\n",
       "      <td>37.000000</td>\n",
       "      <td>0.000000</td>\n",
       "      <td>0.000000</td>\n",
       "      <td>0.000000</td>\n",
       "      <td>0.000000</td>\n",
       "      <td>0.000000</td>\n",
       "      <td>0.000000</td>\n",
       "    </tr>\n",
       "    <tr>\n",
       "      <th>75%</th>\n",
       "      <td>55.000000</td>\n",
       "      <td>0.000000</td>\n",
       "      <td>0.000000</td>\n",
       "      <td>0.000000</td>\n",
       "      <td>0.000000</td>\n",
       "      <td>0.000000</td>\n",
       "      <td>1.000000</td>\n",
       "    </tr>\n",
       "    <tr>\n",
       "      <th>max</th>\n",
       "      <td>115.000000</td>\n",
       "      <td>1.000000</td>\n",
       "      <td>1.000000</td>\n",
       "      <td>1.000000</td>\n",
       "      <td>1.000000</td>\n",
       "      <td>4.000000</td>\n",
       "      <td>1.000000</td>\n",
       "    </tr>\n",
       "  </tbody>\n",
       "</table>\n",
       "</div>"
      ],
      "text/plain": [
       "                 age    scholarship   hipertension       diabetes  \\\n",
       "count  110526.000000  110526.000000  110526.000000  110526.000000   \n",
       "mean       37.089219       0.098266       0.197248       0.071865   \n",
       "std        23.110026       0.297676       0.397923       0.258266   \n",
       "min         0.000000       0.000000       0.000000       0.000000   \n",
       "25%        18.000000       0.000000       0.000000       0.000000   \n",
       "50%        37.000000       0.000000       0.000000       0.000000   \n",
       "75%        55.000000       0.000000       0.000000       0.000000   \n",
       "max       115.000000       1.000000       1.000000       1.000000   \n",
       "\n",
       "          alcoholism        handcap   sms_received  \n",
       "count  110526.000000  110526.000000  110526.000000  \n",
       "mean        0.030400       0.022248       0.321029  \n",
       "std         0.171686       0.161543       0.466874  \n",
       "min         0.000000       0.000000       0.000000  \n",
       "25%         0.000000       0.000000       0.000000  \n",
       "50%         0.000000       0.000000       0.000000  \n",
       "75%         0.000000       0.000000       1.000000  \n",
       "max         1.000000       4.000000       1.000000  "
      ]
     },
     "execution_count": 86,
     "metadata": {},
     "output_type": "execute_result"
    }
   ],
   "source": [
    "df.describe()"
   ]
  },
  {
   "cell_type": "code",
   "execution_count": 87,
   "metadata": {},
   "outputs": [],
   "source": [
    "# 5.新增年龄分段列 0-2 婴儿 3-10 儿童，11-18 青少年 19-35 青年 36-60 中年 60+ 老年\n",
    "bin_edges = [-1, 2, 10, 18, 35, 60, 115]\n",
    "bin_names = ['baby', 'child', 'teen-age', 'youth', 'midlife', 'old-age']\n",
    "df['age_levels'] = pd.cut(df['age'], bin_edges, labels=bin_names)"
   ]
  },
  {
   "cell_type": "code",
   "execution_count": 88,
   "metadata": {},
   "outputs": [],
   "source": [
    "# 6.no_show转换为数字0,1\n",
    "df['no_show'].replace({'Yes':1, 'No':0}, inplace=True)"
   ]
  },
  {
   "cell_type": "code",
   "execution_count": 89,
   "metadata": {},
   "outputs": [
    {
     "data": {
      "text/html": [
       "<div>\n",
       "<style>\n",
       "    .dataframe thead tr:only-child th {\n",
       "        text-align: right;\n",
       "    }\n",
       "\n",
       "    .dataframe thead th {\n",
       "        text-align: left;\n",
       "    }\n",
       "\n",
       "    .dataframe tbody tr th {\n",
       "        vertical-align: top;\n",
       "    }\n",
       "</style>\n",
       "<table border=\"1\" class=\"dataframe\">\n",
       "  <thead>\n",
       "    <tr style=\"text-align: right;\">\n",
       "      <th></th>\n",
       "      <th>gender</th>\n",
       "      <th>scheduled_day</th>\n",
       "      <th>appointment_day</th>\n",
       "      <th>age</th>\n",
       "      <th>neighbourhood</th>\n",
       "      <th>scholarship</th>\n",
       "      <th>hipertension</th>\n",
       "      <th>diabetes</th>\n",
       "      <th>alcoholism</th>\n",
       "      <th>handcap</th>\n",
       "      <th>sms_received</th>\n",
       "      <th>no_show</th>\n",
       "      <th>age_levels</th>\n",
       "    </tr>\n",
       "  </thead>\n",
       "  <tbody>\n",
       "    <tr>\n",
       "      <th>0</th>\n",
       "      <td>F</td>\n",
       "      <td>2016-04-29 18:38:08</td>\n",
       "      <td>2016-04-29</td>\n",
       "      <td>62</td>\n",
       "      <td>JARDIM DA PENHA</td>\n",
       "      <td>0</td>\n",
       "      <td>1</td>\n",
       "      <td>0</td>\n",
       "      <td>0</td>\n",
       "      <td>0</td>\n",
       "      <td>0</td>\n",
       "      <td>0</td>\n",
       "      <td>old-age</td>\n",
       "    </tr>\n",
       "    <tr>\n",
       "      <th>1</th>\n",
       "      <td>M</td>\n",
       "      <td>2016-04-29 16:08:27</td>\n",
       "      <td>2016-04-29</td>\n",
       "      <td>56</td>\n",
       "      <td>JARDIM DA PENHA</td>\n",
       "      <td>0</td>\n",
       "      <td>0</td>\n",
       "      <td>0</td>\n",
       "      <td>0</td>\n",
       "      <td>0</td>\n",
       "      <td>0</td>\n",
       "      <td>0</td>\n",
       "      <td>midlife</td>\n",
       "    </tr>\n",
       "    <tr>\n",
       "      <th>2</th>\n",
       "      <td>F</td>\n",
       "      <td>2016-04-29 16:19:04</td>\n",
       "      <td>2016-04-29</td>\n",
       "      <td>62</td>\n",
       "      <td>MATA DA PRAIA</td>\n",
       "      <td>0</td>\n",
       "      <td>0</td>\n",
       "      <td>0</td>\n",
       "      <td>0</td>\n",
       "      <td>0</td>\n",
       "      <td>0</td>\n",
       "      <td>0</td>\n",
       "      <td>old-age</td>\n",
       "    </tr>\n",
       "    <tr>\n",
       "      <th>3</th>\n",
       "      <td>F</td>\n",
       "      <td>2016-04-29 17:29:31</td>\n",
       "      <td>2016-04-29</td>\n",
       "      <td>8</td>\n",
       "      <td>PONTAL DE CAMBURI</td>\n",
       "      <td>0</td>\n",
       "      <td>0</td>\n",
       "      <td>0</td>\n",
       "      <td>0</td>\n",
       "      <td>0</td>\n",
       "      <td>0</td>\n",
       "      <td>0</td>\n",
       "      <td>child</td>\n",
       "    </tr>\n",
       "    <tr>\n",
       "      <th>4</th>\n",
       "      <td>F</td>\n",
       "      <td>2016-04-29 16:07:23</td>\n",
       "      <td>2016-04-29</td>\n",
       "      <td>56</td>\n",
       "      <td>JARDIM DA PENHA</td>\n",
       "      <td>0</td>\n",
       "      <td>1</td>\n",
       "      <td>1</td>\n",
       "      <td>0</td>\n",
       "      <td>0</td>\n",
       "      <td>0</td>\n",
       "      <td>0</td>\n",
       "      <td>midlife</td>\n",
       "    </tr>\n",
       "  </tbody>\n",
       "</table>\n",
       "</div>"
      ],
      "text/plain": [
       "  gender       scheduled_day appointment_day  age      neighbourhood  \\\n",
       "0      F 2016-04-29 18:38:08      2016-04-29   62    JARDIM DA PENHA   \n",
       "1      M 2016-04-29 16:08:27      2016-04-29   56    JARDIM DA PENHA   \n",
       "2      F 2016-04-29 16:19:04      2016-04-29   62      MATA DA PRAIA   \n",
       "3      F 2016-04-29 17:29:31      2016-04-29    8  PONTAL DE CAMBURI   \n",
       "4      F 2016-04-29 16:07:23      2016-04-29   56    JARDIM DA PENHA   \n",
       "\n",
       "   scholarship  hipertension  diabetes  alcoholism  handcap  sms_received  \\\n",
       "0            0             1         0           0        0             0   \n",
       "1            0             0         0           0        0             0   \n",
       "2            0             0         0           0        0             0   \n",
       "3            0             0         0           0        0             0   \n",
       "4            0             1         1           0        0             0   \n",
       "\n",
       "   no_show age_levels  \n",
       "0        0    old-age  \n",
       "1        0    midlife  \n",
       "2        0    old-age  \n",
       "3        0      child  \n",
       "4        0    midlife  "
      ]
     },
     "execution_count": 89,
     "metadata": {},
     "output_type": "execute_result"
    }
   ],
   "source": [
    "df.head()\n",
    "\n",
    "# 数据清理完毕"
   ]
  },
  {
   "cell_type": "markdown",
   "metadata": {},
   "source": [
    "<a id='eda'></a>\n",
    "## 探索性数据分析\n",
    "\n",
    "\n",
    "\n",
    "### 各个变量所占的比重"
   ]
  },
  {
   "cell_type": "code",
   "execution_count": 98,
   "metadata": {},
   "outputs": [
    {
     "data": {
      "image/png": "[encoded data removed]",
      "text/plain": [
       "<matplotlib.figure.Figure at 0x7f7456c4fe80>"
      ]
     },
     "metadata": {},
     "output_type": "display_data"
    }
   ],
   "source": [
    "# 用这个代码框和其它代码框探索数据。务必添加\n",
    "#   Markdown 框，以便归档你的观察和调查结果。\n",
    "#df['gender'].hist(figsize=(5,5));\n",
    "# 性别和未赴约的比重\n",
    "df.groupby('gender')['no_show'].count().plot(kind = 'bar', title='gender ratio', x='gender', y='count');"
   ]
  },
  {
   "cell_type": "code",
   "execution_count": 17,
   "metadata": {},
   "outputs": [
    {
     "data": {
      "image/png": "[encoded data removed]",
      "text/plain": [
       "<matplotlib.figure.Figure at 0x7f745b4067b8>"
      ]
     },
     "metadata": {},
     "output_type": "display_data"
    }
   ],
   "source": [
    "# 年龄段和未赴约的比重\n",
    "df.groupby('age_levels')['no_show'].count().plot(kind = 'bar', title='age_levels ratio', x='age_levels', y='count');"
   ]
  },
  {
   "cell_type": "code",
   "execution_count": 18,
   "metadata": {},
   "outputs": [
    {
     "data": {
      "image/png": "[encoded data removed]",
      "text/plain": [
       "<matplotlib.figure.Figure at 0x7f745b3fd518>"
      ]
     },
     "metadata": {},
     "output_type": "display_data"
    }
   ],
   "source": [
    "# df['scholarship'].hist(figsize=(3,3));\n",
    "# 是否享有福利项目和未赴约的比重\n",
    "df.groupby('scholarship')['no_show'].count().plot(kind = 'bar', title='scholarship ratio', x='scholarship', y='count');"
   ]
  },
  {
   "cell_type": "code",
   "execution_count": 19,
   "metadata": {},
   "outputs": [
    {
     "data": {
      "image/png": "[encoded data removed]",
      "text/plain": [
       "<matplotlib.figure.Figure at 0x7f745b394da0>"
      ]
     },
     "metadata": {},
     "output_type": "display_data"
    }
   ],
   "source": [
    "# df['hipertension'].hist(figsize=(3,3));\n",
    "# 高血压和未赴约的比重\n",
    "df.groupby('hipertension')['no_show'].count().plot(kind = 'bar', title='hipertension ratio', x='hipertension', y='count');"
   ]
  },
  {
   "cell_type": "code",
   "execution_count": 20,
   "metadata": {},
   "outputs": [
    {
     "data": {
      "image/png": "[encoded data removed]",
      "text/plain": [
       "<matplotlib.figure.Figure at 0x7f745b263908>"
      ]
     },
     "metadata": {},
     "output_type": "display_data"
    }
   ],
   "source": [
    "# df['diabetes'].hist(figsize=(3,3));\n",
    "# 糖尿病和未赴约的比重\n",
    "df.groupby('diabetes')['no_show'].count().plot(kind = 'bar', title='diabetes ratio', x='diabetes', y='count');"
   ]
  },
  {
   "cell_type": "code",
   "execution_count": 21,
   "metadata": {},
   "outputs": [
    {
     "data": {
      "image/png": "[encoded data removed]",
      "text/plain": [
       "<matplotlib.figure.Figure at 0x7f745b245898>"
      ]
     },
     "metadata": {},
     "output_type": "display_data"
    }
   ],
   "source": [
    "# df['alcoholism'].hist(figsize=(3,3));\n",
    "# 酗酒和未赴约的比重\n",
    "df.groupby('alcoholism')['no_show'].count().plot(kind = 'bar', title='alcoholism ratio', x='alcoholism', y='count');"
   ]
  },
  {
   "cell_type": "code",
   "execution_count": 22,
   "metadata": {},
   "outputs": [
    {
     "data": {
      "image/png": "[encoded data removed]",
      "text/plain": [
       "<matplotlib.figure.Figure at 0x7f745b1a7828>"
      ]
     },
     "metadata": {},
     "output_type": "display_data"
    }
   ],
   "source": [
    "#df['handcap'].hist(figsize=(3,3));\n",
    "# 伤残等级和未赴约的比重\n",
    "df.groupby('handcap')['no_show'].count().plot(kind = 'bar', title='handcap ratio', x='handcap', y='count');"
   ]
  },
  {
   "cell_type": "code",
   "execution_count": 23,
   "metadata": {},
   "outputs": [
    {
     "data": {
      "image/png": "[encoded data removed]",
      "text/plain": [
       "<matplotlib.figure.Figure at 0x7f745b16fcc0>"
      ]
     },
     "metadata": {},
     "output_type": "display_data"
    }
   ],
   "source": [
    "# df['sms_received'].hist(figsize=(3,3));\n",
    "# 短信预约和未赴约的比重\n",
    "df.groupby('sms_received')['no_show'].count().plot(kind = 'bar', title='sms_received ratio', x='sms_received', y='count');"
   ]
  },
  {
   "cell_type": "code",
   "execution_count": 24,
   "metadata": {},
   "outputs": [
    {
     "data": {
      "text/plain": [
       "Index(['gender', 'scheduled_day', 'appointment_day', 'age', 'neighbourhood',\n",
       "       'scholarship', 'hipertension', 'diabetes', 'alcoholism', 'handcap',\n",
       "       'sms_received', 'no_show', 'age_levels'],\n",
       "      dtype='object')"
      ]
     },
     "execution_count": 24,
     "metadata": {},
     "output_type": "execute_result"
    }
   ],
   "source": [
    "df.columns"
   ]
  },
  {
   "cell_type": "markdown",
   "metadata": {},
   "source": [
    "### 探索哪些因素和最终结果有关"
   ]
  },
  {
   "cell_type": "code",
   "execution_count": 25,
   "metadata": {},
   "outputs": [],
   "source": [
    "def get_yes_percentage(column_name, condition):\n",
    "    total_counts = sum(df[df[column_name] == condition]['no_show'].value_counts())\n",
    "    result = df[(df[column_name] == condition) & (df['no_show'] == 1)]['no_show'].value_counts() / total_counts\n",
    "    return result.get_value(label=1)\n",
    "    "
   ]
  },
  {
   "cell_type": "code",
   "execution_count": 26,
   "metadata": {},
   "outputs": [
    {
     "name": "stdout",
     "output_type": "stream",
     "text": [
      "没有福利失约百分比 19.72%\n",
      "有福利失约百分比 23.66%\n"
     ]
    },
    {
     "data": {
      "image/png": "[encoded data removed]",
      "text/plain": [
       "<matplotlib.figure.Figure at 0x7f745ac892e8>"
      ]
     },
     "metadata": {},
     "output_type": "display_data"
    }
   ],
   "source": [
    "print(\"没有福利失约百分比 {:.2%}\".format(get_yes_percentage('scholarship', 0)))\n",
    "print(\"有福利失约百分比 {:.2%}\".format(get_yes_percentage('scholarship', 1)))\n",
    "\n",
    "df.groupby(['scholarship', 'no_show'])['no_show'].count().unstack().plot(kind = 'bar', stacked =True, title='scholarship stand up ratio');\n",
    "#df[df['no_show'] == 1]['scholarship'].value_counts().plot(kind='bar', rot=0, figsize=(8, 3));"
   ]
  },
  {
   "cell_type": "markdown",
   "metadata": {},
   "source": [
    "从这个条件中我并没有发现和最终是否失约有什么关系，难道是因为有福利 医生会上门就诊，所以肆无忌惮的可能性会大？"
   ]
  },
  {
   "cell_type": "code",
   "execution_count": 36,
   "metadata": {},
   "outputs": [
    {
     "name": "stdout",
     "output_type": "stream",
     "text": [
      "81\n",
      "0\n",
      "AEROPORTO\n",
      "街道AEROPORTO失约百分比 12.50%\n",
      "1\n",
      "ANDORINHAS\n",
      "街道ANDORINHAS失约百分比 22.65%\n",
      "2\n",
      "ANTÔNIO HONÓRIO\n",
      "街道ANTÔNIO HONÓRIO失约百分比 18.45%\n",
      "3\n",
      "ARIOVALDO FAVALESSA\n",
      "街道ARIOVALDO FAVALESSA失约百分比 22.14%\n",
      "4\n",
      "BARRO VERMELHO\n",
      "街道BARRO VERMELHO失约百分比 21.56%\n",
      "5\n",
      "BELA VISTA\n",
      "街道BELA VISTA失约百分比 20.06%\n",
      "6\n",
      "BENTO FERREIRA\n",
      "街道BENTO FERREIRA失约百分比 22.13%\n",
      "7\n",
      "BOA VISTA\n",
      "街道BOA VISTA失约百分比 18.59%\n",
      "8\n",
      "BONFIM\n",
      "街道BONFIM失约百分比 19.85%\n",
      "9\n",
      "CARATOÍRA\n",
      "街道CARATOÍRA失约百分比 22.94%\n",
      "10\n",
      "CENTRO\n",
      "街道CENTRO失约百分比 21.00%\n",
      "11\n",
      "COMDUSA\n",
      "街道COMDUSA失约百分比 17.82%\n",
      "12\n",
      "CONQUISTA\n",
      "街道CONQUISTA失约百分比 18.65%\n",
      "13\n",
      "CONSOLAÇÃO\n",
      "街道CONSOLAÇÃO失约百分比 17.24%\n",
      "14\n",
      "CRUZAMENTO\n",
      "街道CRUZAMENTO失约百分比 21.63%\n",
      "15\n",
      "DA PENHA\n",
      "街道DA PENHA失约百分比 19.43%\n",
      "16\n",
      "DE LOURDES\n",
      "街道DE LOURDES失约百分比 15.56%\n",
      "17\n",
      "DO CABRAL\n",
      "街道DO CABRAL失约百分比 15.77%\n",
      "18\n",
      "DO MOSCOSO\n",
      "街道DO MOSCOSO失约百分比 22.38%\n",
      "19\n",
      "DO QUADRO\n",
      "街道DO QUADRO失约百分比 16.31%\n",
      "20\n",
      "ENSEADA DO SUÁ\n",
      "街道ENSEADA DO SUÁ失约百分比 22.13%\n",
      "21\n",
      "ESTRELINHA\n",
      "街道ESTRELINHA失约百分比 19.70%\n",
      "22\n",
      "FONTE GRANDE\n",
      "街道FONTE GRANDE失约百分比 21.78%\n",
      "23\n",
      "FORTE SÃO JOÃO\n",
      "街道FORTE SÃO JOÃO失约百分比 17.92%\n",
      "24\n",
      "FRADINHOS\n",
      "街道FRADINHOS失约百分比 18.60%\n",
      "25\n",
      "GOIABEIRAS\n",
      "街道GOIABEIRAS失约百分比 19.60%\n",
      "26\n",
      "GRANDE VITÓRIA\n",
      "街道GRANDE VITÓRIA失约百分比 20.26%\n",
      "27\n",
      "GURIGICA\n",
      "街道GURIGICA失约百分比 22.56%\n",
      "28\n",
      "HORTO\n",
      "街道HORTO失约百分比 24.00%\n",
      "29\n",
      "ILHA DAS CAIEIRAS\n",
      "街道ILHA DAS CAIEIRAS失约百分比 22.08%\n",
      "30\n",
      "ILHA DE SANTA MARIA\n",
      "街道ILHA DE SANTA MARIA失约百分比 19.15%\n",
      "31\n",
      "ILHA DO BOI\n",
      "街道ILHA DO BOI失约百分比 8.57%\n",
      "32\n",
      "ILHA DO FRADE\n",
      "街道ILHA DO FRADE失约百分比 20.00%\n",
      "33\n",
      "ILHA DO PRÍNCIPE\n",
      "街道ILHA DO PRÍNCIPE失约百分比 23.48%\n",
      "34\n",
      "ILHAS OCEÂNICAS DE TRINDADE\n",
      "街道ILHAS OCEÂNICAS DE TRINDADE失约百分比 100.00%\n",
      "35\n",
      "INHANGUETÁ\n",
      "街道INHANGUETÁ失约百分比 19.11%\n",
      "36\n",
      "ITARARÉ\n",
      "街道ITARARÉ失约百分比 25.99%\n",
      "37\n",
      "JABOUR\n",
      "街道JABOUR失约百分比 17.99%\n",
      "38\n",
      "JARDIM CAMBURI\n",
      "街道JARDIM CAMBURI失约百分比 18.76%\n",
      "39\n",
      "JARDIM DA PENHA\n",
      "街道JARDIM DA PENHA失约百分比 16.29%\n",
      "40\n",
      "JESUS DE NAZARETH\n",
      "街道JESUS DE NAZARETH失约百分比 24.37%\n",
      "41\n",
      "JOANA D´ARC\n",
      "街道JOANA D´ARC失约百分比 18.17%\n",
      "42\n",
      "JUCUTUQUARA\n",
      "街道JUCUTUQUARA失约百分比 19.16%\n",
      "43\n",
      "MARIA ORTIZ\n",
      "街道MARIA ORTIZ失约百分比 21.00%\n",
      "44\n",
      "MARUÍPE\n",
      "街道MARUÍPE失约百分比 22.21%\n",
      "45\n",
      "MATA DA PRAIA\n",
      "街道MATA DA PRAIA失约百分比 16.95%\n",
      "46\n",
      "MONTE BELO\n",
      "街道MONTE BELO失约百分比 20.15%\n",
      "47\n",
      "MORADA DE CAMBURI\n",
      "街道MORADA DE CAMBURI失约百分比 16.67%\n",
      "48\n",
      "MÁRIO CYPRESTE\n",
      "街道MÁRIO CYPRESTE失约百分比 14.17%\n",
      "49\n",
      "NAZARETH\n",
      "街道NAZARETH失约百分比 21.48%\n",
      "50\n",
      "NOVA PALESTINA\n",
      "街道NOVA PALESTINA失约百分比 17.76%\n",
      "51\n",
      "PARQUE INDUSTRIAL\n",
      "index out of bounds\n",
      "52\n",
      "PARQUE MOSCOSO\n",
      "街道PARQUE MOSCOSO失约百分比 22.46%\n",
      "53\n",
      "PIEDADE\n",
      "街道PIEDADE失约百分比 19.06%\n",
      "54\n",
      "PONTAL DE CAMBURI\n",
      "街道PONTAL DE CAMBURI失约百分比 17.39%\n",
      "55\n",
      "PRAIA DO CANTO\n",
      "街道PRAIA DO CANTO失约百分比 18.31%\n",
      "56\n",
      "PRAIA DO SUÁ\n",
      "街道PRAIA DO SUÁ失约百分比 22.83%\n",
      "57\n",
      "REDENÇÃO\n",
      "街道REDENÇÃO失约百分比 17.71%\n",
      "58\n",
      "REPÚBLICA\n",
      "街道REPÚBLICA失约百分比 17.13%\n",
      "59\n",
      "RESISTÊNCIA\n",
      "街道RESISTÊNCIA失约百分比 20.17%\n",
      "60\n",
      "ROMÃO\n",
      "街道ROMÃO失约百分比 21.17%\n",
      "61\n",
      "SANTA CECÍLIA\n",
      "街道SANTA CECÍLIA失约百分比 27.46%\n",
      "62\n",
      "SANTA CLARA\n",
      "街道SANTA CLARA失约百分比 26.35%\n",
      "63\n",
      "SANTA HELENA\n",
      "街道SANTA HELENA失约百分比 20.79%\n",
      "64\n",
      "SANTA LUÍZA\n",
      "街道SANTA LUÍZA失约百分比 17.99%\n",
      "65\n",
      "SANTA LÚCIA\n",
      "街道SANTA LÚCIA失约百分比 19.72%\n",
      "66\n",
      "SANTA MARTHA\n",
      "街道SANTA MARTHA失约百分比 15.76%\n",
      "67\n",
      "SANTA TEREZA\n",
      "街道SANTA TEREZA失约百分比 20.35%\n",
      "68\n",
      "SANTO ANDRÉ\n",
      "街道SANTO ANDRÉ失约百分比 19.72%\n",
      "69\n",
      "SANTO ANTÔNIO\n",
      "街道SANTO ANTÔNIO失约百分比 17.49%\n",
      "70\n",
      "SANTOS DUMONT\n",
      "街道SANTOS DUMONT失约百分比 28.77%\n",
      "71\n",
      "SANTOS REIS\n",
      "街道SANTOS REIS失约百分比 20.66%\n",
      "72\n",
      "SEGURANÇA DO LAR\n",
      "街道SEGURANÇA DO LAR失约百分比 19.44%\n",
      "73\n",
      "SOLON BORGES\n",
      "街道SOLON BORGES失约百分比 14.71%\n",
      "74\n",
      "SÃO BENEDITO\n",
      "街道SÃO BENEDITO失约百分比 19.68%\n",
      "75\n",
      "SÃO CRISTÓVÃO\n",
      "街道SÃO CRISTÓVÃO失约百分比 19.77%\n",
      "76\n",
      "SÃO JOSÉ\n",
      "街道SÃO JOSÉ失约百分比 21.75%\n",
      "77\n",
      "SÃO PEDRO\n",
      "街道SÃO PEDRO失约百分比 20.94%\n",
      "78\n",
      "TABUAZEIRO\n",
      "街道TABUAZEIRO失约百分比 18.19%\n",
      "79\n",
      "UNIVERSITÁRIO\n",
      "街道UNIVERSITÁRIO失约百分比 21.05%\n",
      "80\n",
      "VILA RUBIM\n",
      "街道VILA RUBIM失约百分比 16.57%\n"
     ]
    },
    {
     "data": {
      "image/png": "[encoded data removed]",
      "text/plain": [
       "<matplotlib.figure.Figure at 0x7f57dcb1b6a0>"
      ]
     },
     "metadata": {},
     "output_type": "display_data"
    }
   ],
   "source": [
    "temp = df.groupby('neighbourhood')['no_show']\n",
    "print(len(temp))\n",
    "for i, k in enumerate(temp):\n",
    "    print(i)\n",
    "    print(k[0])\n",
    "    try:\n",
    "        print(\"街道{}失约百分比 {:.2%}\".format(k[0], get_yes_percentage('neighbourhood', k[0])))\n",
    "    except Exception as e:\n",
    "        print(e)\n",
    "\n",
    "# df[df['no_show'] == 1]['neighbourhood'].value_counts()[:5].plot(kind='bar', rot=0, figsize=(8, 3));\n",
    "df.groupby(['neighbourhood', 'no_show'])['no_show'].count().unstack().plot(kind = 'bar', stacked =True, title='neighbourhood stand up ratio');\n",
    "# JARDIM CAMBURI"
   ]
  },
  {
   "cell_type": "markdown",
   "metadata": {},
   "source": [
    "街道ILHAS OCEÂNICAS DE TRINDADE失约百分比 100.00%\n",
    "街道的失约比的话，我猜测就是因为医院所处的地理位置可能在交通上并不方便导致失约比会增高？"
   ]
  },
  {
   "cell_type": "code",
   "execution_count": 37,
   "metadata": {},
   "outputs": [
    {
     "name": "stdout",
     "output_type": "stream",
     "text": [
      "midlife失约百分比 19.00%\n",
      "youth失约百分比 23.74%\n",
      "old-age失约百分比 15.13%\n",
      "teen-age失约百分比 25.25%\n",
      "child失约百分比 21.86%\n",
      "baby失约百分比 17.57%\n"
     ]
    },
    {
     "data": {
      "image/png": "[encoded data removed]",
      "text/plain": [
       "<matplotlib.figure.Figure at 0x7f57dcba8ba8>"
      ]
     },
     "metadata": {},
     "output_type": "display_data"
    }
   ],
   "source": [
    "print(\"midlife失约百分比 {:.2%}\".format(get_yes_percentage('age_levels', 'midlife')))\n",
    "print(\"youth失约百分比 {:.2%}\".format(get_yes_percentage('age_levels', 'youth')))\n",
    "print(\"old-age失约百分比 {:.2%}\".format(get_yes_percentage('age_levels', 'old-age')))\n",
    "print(\"teen-age失约百分比 {:.2%}\".format(get_yes_percentage('age_levels', 'teen-age')))\n",
    "print(\"child失约百分比 {:.2%}\".format(get_yes_percentage('age_levels', 'child')))\n",
    "print(\"baby失约百分比 {:.2%}\".format(get_yes_percentage('age_levels', 'baby')))\n",
    "\n",
    "df.groupby(['age_levels', 'no_show'])['no_show'].count().unstack().plot(kind = 'bar', stacked =True, title='age_levels stand up ratio');"
   ]
  },
  {
   "cell_type": "markdown",
   "metadata": {},
   "source": [
    "中年 青年 失约数目最多。难道是因为中青年因为对自己的健康比较盲目的自信，而且在这两个年龄段时，自我主导权也比较大？"
   ]
  },
  {
   "cell_type": "code",
   "execution_count": 68,
   "metadata": {},
   "outputs": [
    {
     "data": {
      "text/plain": [
       "<matplotlib.legend.Legend at 0x7f74576790f0>"
      ]
     },
     "execution_count": 68,
     "metadata": {},
     "output_type": "execute_result"
    },
    {
     "data": {
      "image/png": "[encoded data removed]",
      "text/plain": [
       "<matplotlib.figure.Figure at 0x7f7457459668>"
      ]
     },
     "metadata": {},
     "output_type": "display_data"
    }
   ],
   "source": [
    "#设置背景及标题\n",
    "sns.set_style('dark')\n",
    "\n",
    "f, (ax1, ax2) = plt.subplots(1, 2, figsize=(15, 4), sharex=True)\n",
    "f.suptitle('Age distribution of different types of Diseases')\n",
    "\n",
    "#作图\n",
    "sns.distplot(df[df['no_show']==1]['age'],ax=ax1)\n",
    "sns.distplot(df[df['no_show']==0]['age'],color='g',ax=ax2)\n",
    "#sns.distplot(df[df['alcoholism']==1]['age'],color='r',ax=ax3)\n",
    "ax1.legend('no_show') # 爽约\n",
    "ax2.legend('show') # 赴约"
   ]
  },
  {
   "cell_type": "markdown",
   "metadata": {},
   "source": [
    "从图中并没有看出，年龄和赴约或爽约的绝对关系"
   ]
  },
  {
   "cell_type": "code",
   "execution_count": 38,
   "metadata": {},
   "outputs": [
    {
     "name": "stdout",
     "output_type": "stream",
     "text": [
      "有高血压失约百分比 20.82%\n",
      "无高血压失约百分比 17.20%\n"
     ]
    },
    {
     "data": {
      "image/png": "[encoded data removed]",
      "text/plain": [
       "<matplotlib.figure.Figure at 0x7f57dcb584e0>"
      ]
     },
     "metadata": {},
     "output_type": "display_data"
    }
   ],
   "source": [
    "print(\"有高血压失约百分比 {:.2%}\".format(get_yes_percentage('hipertension', 0)))\n",
    "print(\"无高血压失约百分比 {:.2%}\".format(get_yes_percentage('hipertension', 1)))\n",
    "df.groupby(['hipertension', 'no_show'])['no_show'].count().unstack().plot(kind = 'bar', stacked =True, title='hipertension stand up ratio');\n",
    "# df[df['no_show'] == 1]['hipertension'].value_counts().plot(kind='bar', rot=0, figsize=(8, 3));"
   ]
  },
  {
   "cell_type": "markdown",
   "metadata": {},
   "source": [
    "我看不出此条件与最终结果的相关性"
   ]
  },
  {
   "cell_type": "code",
   "execution_count": 39,
   "metadata": {},
   "outputs": [
    {
     "name": "stdout",
     "output_type": "stream",
     "text": [
      "有糖尿病失约百分比 20.27%\n",
      "无糖尿病失约百分比 18.02%\n"
     ]
    },
    {
     "data": {
      "image/png": "[encoded data removed]",
      "text/plain": [
       "<matplotlib.figure.Figure at 0x7f57dd1e92e8>"
      ]
     },
     "metadata": {},
     "output_type": "display_data"
    }
   ],
   "source": [
    "print(\"有糖尿病失约百分比 {:.2%}\".format(get_yes_percentage('diabetes', 0)))\n",
    "print(\"无糖尿病失约百分比 {:.2%}\".format(get_yes_percentage('diabetes', 1)))\n",
    "\n",
    "df.groupby(['diabetes', 'no_show'])['no_show'].count().unstack().plot(kind = 'bar', stacked =True, title='diabetes stand up ratio');\n",
    "# df[df['no_show'] == 1]['diabetes'].value_counts().plot(kind='bar', rot=0, figsize=(8, 3));"
   ]
  },
  {
   "cell_type": "markdown",
   "metadata": {},
   "source": [
    "我看不出此条件与最终结果的相关性"
   ]
  },
  {
   "cell_type": "code",
   "execution_count": 40,
   "metadata": {},
   "outputs": [
    {
     "name": "stdout",
     "output_type": "stream",
     "text": [
      "酗酒失约百分比 20.11%\n",
      "不酗酒失约百分比 19.98%\n"
     ]
    },
    {
     "data": {
      "image/png": "[encoded data removed]",
      "text/plain": [
       "<matplotlib.figure.Figure at 0x7f57dcc1ad30>"
      ]
     },
     "metadata": {},
     "output_type": "display_data"
    }
   ],
   "source": [
    "print(\"酗酒失约百分比 {:.2%}\".format(get_yes_percentage('alcoholism', 0)))\n",
    "print(\"不酗酒失约百分比 {:.2%}\".format(get_yes_percentage('alcoholism', 1)))\n",
    "\n",
    "df.groupby(['alcoholism', 'no_show'])['no_show'].count().unstack().plot(kind = 'bar', stacked =True, title='alcoholism stand up ratio');\n",
    "# df[df['no_show'] == 1]['alcoholism'].value_counts().plot(kind='bar', rot=0, figsize=(8, 3));"
   ]
  },
  {
   "cell_type": "markdown",
   "metadata": {},
   "source": [
    "我看不出此条件与最终结果的相关性"
   ]
  },
  {
   "cell_type": "code",
   "execution_count": 28,
   "metadata": {},
   "outputs": [
    {
     "name": "stdout",
     "output_type": "stream",
     "text": [
      "无伤残失约百分比 20.15%\n",
      "伤残等级1失约百分比 17.70%\n",
      "伤残等级2失约百分比 20.33%\n",
      "伤残等级3失约百分比 27.27%\n",
      "伤残等级4失约百分比 33.33%\n"
     ]
    },
    {
     "data": {
      "image/png": "[encoded data removed]",
      "text/plain": [
       "<matplotlib.figure.Figure at 0x7f745abf8a58>"
      ]
     },
     "metadata": {},
     "output_type": "display_data"
    }
   ],
   "source": [
    "print(\"无伤残失约百分比 {:.2%}\".format(get_yes_percentage('handcap', 0)))\n",
    "print(\"伤残等级1失约百分比 {:.2%}\".format(get_yes_percentage('handcap', 1)))\n",
    "print(\"伤残等级2失约百分比 {:.2%}\".format(get_yes_percentage('handcap', 2)))\n",
    "print(\"伤残等级3失约百分比 {:.2%}\".format(get_yes_percentage('handcap', 3)))\n",
    "print(\"伤残等级4失约百分比 {:.2%}\".format(get_yes_percentage('handcap', 4)))\n",
    "\n",
    "df.groupby(['handcap', 'no_show'])['no_show'].count().unstack().plot(kind = 'bar', stacked =True, title='handcap stand up ratio');\n",
    "# df[df['no_show'] == 1]['handcap'].value_counts().plot(kind='bar', rot=0, figsize=(8, 3));"
   ]
  },
  {
   "cell_type": "markdown",
   "metadata": {},
   "source": [
    "伤残等级高，所以行动不便，所以失约比会高？"
   ]
  },
  {
   "cell_type": "code",
   "execution_count": 53,
   "metadata": {},
   "outputs": [
    {
     "name": "stdout",
     "output_type": "stream",
     "text": [
      "未短信预约失约百分比 16.55%\n",
      "短信预约失约百分比 27.57%\n",
      "<class 'pandas.core.series.Series'>\n"
     ]
    },
    {
     "data": {
      "image/png": "[encoded data removed]",
      "text/plain": [
       "<matplotlib.figure.Figure at 0x7f745799e7b8>"
      ]
     },
     "metadata": {},
     "output_type": "display_data"
    }
   ],
   "source": [
    "print(\"未短信预约失约百分比 {:.2%}\".format(get_yes_percentage('sms_received', 0)))\n",
    "print(\"短信预约失约百分比 {:.2%}\".format(get_yes_percentage('sms_received', 1)))\n",
    "\n",
    "received_count = df.groupby('sms_received').size()\n",
    "print(type(received_count))\n",
    "\n",
    "sms_received_noshow_count = df.groupby(['sms_received', 'no_show'])['no_show'].count().unstack()\n",
    "#sms_received_noshow_count.plot(kind='pie', labels=['received','No received'], autopct='%.1f%%',subplots=True);\n",
    "sms_received_noshow_count.plot(kind = 'bar', stacked =True, title='sms_received stand up ratio');"
   ]
  },
  {
   "cell_type": "markdown",
   "metadata": {},
   "source": [
    "我看不出此条件与最终结果的相关性"
   ]
  },
  {
   "cell_type": "markdown",
   "metadata": {},
   "source": [
    "<a id='conclusions'></a>\n",
    "## 结论\n",
    "\n",
    "> **提示**：最后，总结你的调查结果。确保了解探索结果的限制。如果尚未进行任何统计检验，不要做出任何统计结论。切记不要根据相互关系推导出因果关系！\n",
    "\n",
    "此次调查存在的限制：\n",
    "1. 此次针对病人是否失约，总共的数据量只有11w左右，数据量不足导致有些特征的数量太小，无法根据现有的数据得出明显结论\n",
    "2. 此次数据所提供的字段，从直观层面上并不认为和最终失约会有强关联，一切只能从现有数据分析结果猜测可能存在的线性关系\n",
    "3. 最后就是可能此次分析并未针对多个字段同时进行分组分析\n",
    "\n",
    "\n",
    "> 如需将报告导出到工作区，应运行下面的代码框。如果正确，会返回代码 0，工作区目录下会生成 .html 文件（单击左上角的 jupyter 图标）。也可以通过 **文件** > **下载为** 子菜单下载 html 报告，然后手动上传到工作区目录。完成之后，可以单击右下角的“提交项目”，提交你的项目。恭喜！"
   ]
  },
  {
   "cell_type": "markdown",
   "metadata": {},
   "source": [
    "**最后结论**（只能从现有结果出发）：\n",
    "1. ILHAS OCEÂNICAS DE TRINDADE 街道 失约率 100%\n",
    "2. 伤残等级4 失约率 33.33%\n",
    "3. SANTA CECÍLIA 街道 失约率 27.46%\n",
    "4. 伤残等级3 失约率 27.27%\n",
    "\n",
    "根据结果猜测的话： **街道方面原因可能是医院地理位置 交通不便利导致的，而伤残等级则是由于病患本身行动不便导致的失约**"
   ]
  },
  {
   "cell_type": "code",
   "execution_count": 81,
   "metadata": {},
   "outputs": [
    {
     "data": {
      "text/plain": [
       "255"
      ]
     },
     "execution_count": 81,
     "metadata": {},
     "output_type": "execute_result"
    }
   ],
   "source": [
    "from subprocess import call\n",
    "call(['python', '-m', 'nbconvert', 'Investigate_a_Dataset.ipynb'])"
   ]
  },
  {
   "cell_type": "code",
   "execution_count": null,
   "metadata": {},
   "outputs": [],
   "source": []
  }
 ],
 "metadata": {
  "kernelspec": {
   "display_name": "Python 3",
   "language": "python",
   "name": "python3"
  },
  "language_info": {
   "codemirror_mode": {
    "name": "ipython",
    "version": 3
   },
   "file_extension": ".py",
   "mimetype": "text/x-python",
   "name": "python",
   "nbconvert_exporter": "python",
   "pygments_lexer": "ipython3",
   "version": "3.6.3"
  }
 },
 "nbformat": 4,
 "nbformat_minor": 2
}
